{
 "cells": [
  {
   "cell_type": "code",
   "execution_count": 2,
   "id": "2489b516",
   "metadata": {},
   "outputs": [],
   "source": [
    "import concurrent.futures"
   ]
  },
  {
   "cell_type": "code",
   "execution_count": 3,
   "id": "08270d3c",
   "metadata": {},
   "outputs": [
    {
     "name": "stdout",
     "output_type": "stream",
     "text": [
      "Help on method submit in module concurrent.futures.thread:\n",
      "\n",
      "submit(*args, **kwargs) method of concurrent.futures.thread.ThreadPoolExecutor instance\n",
      "    Submits a callable to be executed with the given arguments.\n",
      "    \n",
      "    Schedules the callable to be executed as fn(*args, **kwargs) and returns\n",
      "    a Future instance representing the execution of the callable.\n",
      "    \n",
      "    Returns:\n",
      "        A Future representing the given call.\n",
      "\n"
     ]
    }
   ],
   "source": [
    "x = concurrent.futures.ThreadPoolExecutor()\n",
    "help(x.submit)"
   ]
  },
  {
   "cell_type": "code",
   "execution_count": 4,
   "id": "59b309d0",
   "metadata": {},
   "outputs": [
    {
     "name": "stdout",
     "output_type": "stream",
     "text": [
      "Foo!\n",
      "Hello World!\n",
      "4\n"
     ]
    }
   ],
   "source": [
    "import asyncio\n",
    "import time\n",
    "\n",
    "async def foo():\n",
    "    await asyncio.sleep(5)\n",
    "    print(\"Foo!\")\n",
    "    \n",
    "async def boo(x):\n",
    "    time.sleep(2)\n",
    "    return x*x\n",
    "\n",
    "async def hello_world():\n",
    "    await foo()  # waits for `foo()` to complete\n",
    "    z = await boo(2)\n",
    "    print(\"Hello World!\")\n",
    "    print(z)\n",
    "\n",
    "# asyncio.run(hello_world())\n",
    "await hello_world()"
   ]
  },
  {
   "cell_type": "code",
   "execution_count": 5,
   "id": "f00a55d3",
   "metadata": {},
   "outputs": [
    {
     "data": {
      "text/plain": [
       "<Task pending coro=<async-def-wrapper.<locals>.hello_world() running at <ipython-input-4-25d0707ec0b4>:15>>"
      ]
     },
     "execution_count": 5,
     "metadata": {},
     "output_type": "execute_result"
    }
   ],
   "source": [
    "loop = asyncio.get_event_loop()\n",
    "loop.create_task(hello_world())\n",
    "# loop.close()"
   ]
  },
  {
   "cell_type": "code",
   "execution_count": 6,
   "id": "3dfe418b",
   "metadata": {},
   "outputs": [],
   "source": [
    "### Gather"
   ]
  },
  {
   "cell_type": "code",
   "execution_count": 7,
   "id": "655128be",
   "metadata": {},
   "outputs": [
    {
     "name": "stdout",
     "output_type": "stream",
     "text": [
      "n: 1!\n",
      "Foo!\n",
      "Hello World!\n",
      "4\n",
      "n: 1.1!\n",
      "n: 1.2!\n",
      "all done!\n",
      "['1', '1.1', '1.2']\n"
     ]
    }
   ],
   "source": [
    "import asyncio\n",
    "\n",
    "\n",
    "async def foo(n):\n",
    "    await asyncio.sleep(2*n)  # wait 5s before continuing\n",
    "    print(f\"n: {n}!\")\n",
    "    return str(n)\n",
    "\n",
    "\n",
    "async def main():\n",
    "    tasks = [foo(1), foo(1.1), foo(1.2)]\n",
    "    x = await asyncio.gather(*tasks)\n",
    "    print(\"all done!\")\n",
    "    print(x)\n",
    "    \n",
    "    \n",
    "await main()"
   ]
  },
  {
   "cell_type": "code",
   "execution_count": 8,
   "id": "d01a7988",
   "metadata": {},
   "outputs": [],
   "source": [
    "## Wait"
   ]
  },
  {
   "cell_type": "code",
   "execution_count": 9,
   "id": "a19fe565",
   "metadata": {},
   "outputs": [
    {
     "name": "stdout",
     "output_type": "stream",
     "text": [
      "1 will sleep for: 0 seconds\n",
      "2 will sleep for: 2 seconds\n",
      "3 will sleep for: 0 seconds\n",
      "n: 1!\n",
      "n: 3!\n",
      "~~~~ ({<Task finished coro=<async-def-wrapper.<locals>.foo() done, defined at <ipython-input-9-f6bb5b15cf44>:8> result=None>, <Task finished coro=<async-def-wrapper.<locals>.foo() done, defined at <ipython-input-9-f6bb5b15cf44>:8> result=None>}, {<Task pending coro=<async-def-wrapper.<locals>.foo() running at <ipython-input-9-f6bb5b15cf44>:11> wait_for=<Future pending cb=[<TaskWakeupMethWrapper object at 0x7f3a1c2ca3d0>()]>>})\n",
      "n: 2!\n"
     ]
    }
   ],
   "source": [
    "import asyncio\n",
    "from random import randrange\n",
    "\n",
    "\n",
    "async def foo(n):\n",
    "    s = randrange(5)\n",
    "    print(f\"{n} will sleep for: {s} seconds\")\n",
    "    await asyncio.sleep(s)\n",
    "    print(f\"n: {n}!\")\n",
    "\n",
    "\n",
    "async def main():\n",
    "    tasks = [foo(1), foo(2), foo(3)]\n",
    "    result = await asyncio.wait(tasks, return_when=asyncio.FIRST_COMPLETED)\n",
    "    print('~~~~', result)\n",
    "    \n",
    "await main()"
   ]
  },
  {
   "cell_type": "code",
   "execution_count": 10,
   "id": "bfbffa73",
   "metadata": {},
   "outputs": [],
   "source": [
    "## Wait_for timeout"
   ]
  },
  {
   "cell_type": "code",
   "execution_count": 11,
   "id": "63689672",
   "metadata": {},
   "outputs": [
    {
     "name": "stdout",
     "output_type": "stream",
     "text": [
      "timeout!\n"
     ]
    }
   ],
   "source": [
    "import asyncio\n",
    "\n",
    "\n",
    "async def foo(n):\n",
    "    await asyncio.sleep(2)\n",
    "    print(f\"n: {n}!\")\n",
    "\n",
    "\n",
    "async def main():\n",
    "    try:\n",
    "        await asyncio.wait_for(foo(1), timeout=1.0001)\n",
    "    except asyncio.TimeoutError:\n",
    "        print(\"timeout!\")\n",
    "\n",
    "await main()"
   ]
  },
  {
   "cell_type": "code",
   "execution_count": 12,
   "id": "c7ed4893",
   "metadata": {},
   "outputs": [
    {
     "name": "stdout",
     "output_type": "stream",
     "text": [
      "a will sleep for: 5 seconds\n",
      "b will sleep for: 8 seconds\n",
      "c will sleep for: 1 seconds\n",
      "the quickest result was: c!\n",
      "the next quickest result was: a!\n",
      "the next quickest result was: b!\n"
     ]
    }
   ],
   "source": [
    "import asyncio\n",
    "from random import randrange\n",
    "\n",
    "\n",
    "async def foo(n):\n",
    "    s = randrange(10)\n",
    "    print(f\"{n} will sleep for: {s} seconds\")\n",
    "    await asyncio.sleep(s)\n",
    "    return f\"{n}!\"\n",
    "\n",
    "\n",
    "async def main():\n",
    "    counter = 0\n",
    "    tasks = [foo(\"a\"), foo(\"b\"), foo(\"c\")]\n",
    "\n",
    "    for future in asyncio.as_completed(tasks):\n",
    "        n = \"quickest\" if counter == 0 else \"next quickest\"\n",
    "        counter += 1\n",
    "        result = await future\n",
    "        print(f\"the {n} result was: {result}\")\n",
    "await main()"
   ]
  },
  {
   "cell_type": "code",
   "execution_count": 13,
   "id": "e7a896f5",
   "metadata": {},
   "outputs": [
    {
     "name": "stdout",
     "output_type": "stream",
     "text": [
      "<Task pending coro=<async-def-wrapper.<locals>.foo() running at <ipython-input-13-2954a3fc9540>:7>>\n",
      "Hello World!\n",
      "<Task pending coro=<async-def-wrapper.<locals>.foo() running at <ipython-input-13-2954a3fc9540>:8> wait_for=<Future pending cb=[<TaskWakeupMethWrapper object at 0x7f3a1c42fc90>()]>>\n",
      "xxxx\n"
     ]
    }
   ],
   "source": [
    "import asyncio\n",
    "\n",
    "\n",
    "async def foo():\n",
    "    await asyncio.sleep(3)\n",
    "    print(\"Foo!\")\n",
    "\n",
    "\n",
    "async def hello_world():\n",
    "    task = asyncio.create_task(foo())\n",
    "    print(task)\n",
    "    await asyncio.sleep(1)\n",
    "    print(\"Hello World!\")\n",
    "    await asyncio.sleep(1)\n",
    "    print(task)\n",
    "    print('xxxx')\n",
    "    \n",
    "await hello_world()"
   ]
  },
  {
   "cell_type": "code",
   "execution_count": 14,
   "id": "07d72f73",
   "metadata": {},
   "outputs": [
    {
     "name": "stdout",
     "output_type": "stream",
     "text": [
      "Foo!\n",
      "Foo!\n",
      "Hello World!\n",
      "xxxx\n"
     ]
    }
   ],
   "source": [
    "import asyncio\n",
    "\n",
    "\n",
    "async def foo():\n",
    "    await asyncio.sleep(3)\n",
    "    print(\"Foo!\")\n",
    "\n",
    "\n",
    "async def hello_world():\n",
    "    await foo()\n",
    "    await asyncio.sleep(1)\n",
    "    print(\"Hello World!\")\n",
    "    await asyncio.sleep(1)\n",
    "    print('xxxx')\n",
    "    \n",
    "await hello_world()"
   ]
  },
  {
   "cell_type": "code",
   "execution_count": 15,
   "id": "ae52e6e8",
   "metadata": {},
   "outputs": [],
   "source": [
    "### callback"
   ]
  },
  {
   "cell_type": "code",
   "execution_count": 16,
   "id": "64938a60",
   "metadata": {},
   "outputs": [
    {
     "name": "stdout",
     "output_type": "stream",
     "text": [
      "<Task pending coro=<async-def-wrapper.<locals>.foo() running at <ipython-input-16-08b2d8c81f74>:7> cb=[async-def-wrapper.<locals>.got_result() at <ipython-input-16-08b2d8c81f74>:12]>\n",
      "Hello World!\n",
      "got the result! Foo!\n",
      "<Task finished coro=<async-def-wrapper.<locals>.foo() done, defined at <ipython-input-16-08b2d8c81f74>:7> result='Foo!'>\n",
      "all done!\n"
     ]
    }
   ],
   "source": [
    "import asyncio\n",
    "\n",
    "\n",
    "async def foo():\n",
    "    await asyncio.sleep(5)\n",
    "    return \"Foo!\"\n",
    "\n",
    "\n",
    "def got_result(future):\n",
    "    print(f\"got the result! {future.result()}\")\n",
    "\n",
    "\n",
    "async def hello_world():\n",
    "    task = asyncio.create_task(foo())\n",
    "    task.add_done_callback(got_result)\n",
    "    print(task)\n",
    "    await asyncio.sleep(3)\n",
    "    print(\"Hello World!\")\n",
    "    await asyncio.sleep(10)\n",
    "    print(task)\n",
    "    print('all done!')\n",
    "await hello_world()"
   ]
  },
  {
   "cell_type": "code",
   "execution_count": 17,
   "id": "0c3591b2",
   "metadata": {},
   "outputs": [
    {
     "name": "stdout",
     "output_type": "stream",
     "text": [
      "default thread pool b'\\xfexI\\x81\\xa7\\xb4\\xc2\\xdbE\\xb7\\x9e\\x8f\\x16\\xd9\\x82\\x7fE\\xa0\\xfa\\x94\\xaab\\xe8\\x1f!\\x87\\xf5\\xb0\\xc8\\x0e\\xc6\\xa0\\xae\\x98H\\x0c!`#\\x1c\\x1c\\xe8\\xa4)\\xd7_U\\xf4\\xd5=\\x8a\\xb8b\\x88`\\x8b?SZ`\\xd48\\x04{\\x16\\x8f\\xc8\\x80Z\\xba\\xe5TLz\\xbewE\\xc9<h\\xb4\\xea\\x1be\\nm\\xdf\\xe8\\xd9/a\\xde\\xe7L\\x86\\x87\\xda\\xdb\\x95t'\n",
      "custom thread pool b\"\\xc9M\\xf5\\xf3'z\\xa23\\x87\\xact\\xd5\\x08?\\x19\\xacX\\x15U\\x9dB\\x87$ih;\\xd0\\x82]\\xc7\\xa6\\x08\\x07\\t\\xf5\\xcd\\x8c\\xe4v\\xf1\\x9b\\x15\\xc3]5\\xfc\\x92\\xcd\\x1aUG[\\x05k\\xd0*\\xa3e\\x10\\nq\\xbc]\\xd3!Z#\\x95\\x1d\\xa6+\\xb7a\\xe0M\\x92\\x96d}-J*\\xa6\\x16m\\xab3\\xa6Y\\xb0\\x91\\x87\\x10\\xdbx\\xd8\\xa7\\x17e\\xc8\"\n"
     ]
    },
    {
     "ename": "AttributeError",
     "evalue": "Can't pickle local object 'async-def-wrapper.<locals>.cpu_bound'",
     "output_type": "error",
     "traceback": [
      "\u001b[0;31m---------------------------------------------------------------------------\u001b[0m",
      "\u001b[0;31m_RemoteTraceback\u001b[0m                          Traceback (most recent call last)",
      "\u001b[0;31m_RemoteTraceback\u001b[0m: \n\"\"\"\nTraceback (most recent call last):\n  File \"/home/fyre/anaconda3/envs/py37/lib/python3.7/multiprocessing/queues.py\", line 236, in _feed\n    obj = _ForkingPickler.dumps(obj)\n  File \"/home/fyre/anaconda3/envs/py37/lib/python3.7/multiprocessing/reduction.py\", line 51, in dumps\n    cls(buf, protocol).dump(obj)\nAttributeError: Can't pickle local object 'async-def-wrapper.<locals>.cpu_bound'\n\"\"\"",
      "\nThe above exception was the direct cause of the following exception:\n",
      "\u001b[0;31mAttributeError\u001b[0m                            Traceback (most recent call last)",
      "\u001b[0;32m<ipython-input-17-f8ab08eaec2b>\u001b[0m in \u001b[0;36masync-def-wrapper\u001b[0;34m()\u001b[0m\n",
      "\u001b[0;32m<ipython-input-17-f8ab08eaec2b>\u001b[0m in \u001b[0;36mmain\u001b[0;34m()\u001b[0m\n\u001b[1;32m     34\u001b[0m         \u001b[0mprint\u001b[0m\u001b[0;34m(\u001b[0m\u001b[0;34m\"custom process pool\"\u001b[0m\u001b[0;34m,\u001b[0m \u001b[0mresult\u001b[0m\u001b[0;34m)\u001b[0m\u001b[0;34m\u001b[0m\u001b[0;34m\u001b[0m\u001b[0m\n\u001b[1;32m     35\u001b[0m \u001b[0;34m\u001b[0m\u001b[0m\n\u001b[0;32m---> 36\u001b[0;31m \u001b[0;32mawait\u001b[0m\u001b[0;34m(\u001b[0m\u001b[0mmain\u001b[0m\u001b[0;34m(\u001b[0m\u001b[0;34m)\u001b[0m\u001b[0;34m)\u001b[0m\u001b[0;34m\u001b[0m\u001b[0;34m\u001b[0m\u001b[0m\n\u001b[0m",
      "\u001b[0;32m~/anaconda3/envs/py37/lib/python3.7/multiprocessing/queues.py\u001b[0m in \u001b[0;36m_feed\u001b[0;34m(buffer, notempty, send_bytes, writelock, close, ignore_epipe, onerror, queue_sem)\u001b[0m\n\u001b[1;32m    234\u001b[0m \u001b[0;34m\u001b[0m\u001b[0m\n\u001b[1;32m    235\u001b[0m                         \u001b[0;31m# serialize the data before acquiring the lock\u001b[0m\u001b[0;34m\u001b[0m\u001b[0;34m\u001b[0m\u001b[0;34m\u001b[0m\u001b[0m\n\u001b[0;32m--> 236\u001b[0;31m                         \u001b[0mobj\u001b[0m \u001b[0;34m=\u001b[0m \u001b[0m_ForkingPickler\u001b[0m\u001b[0;34m.\u001b[0m\u001b[0mdumps\u001b[0m\u001b[0;34m(\u001b[0m\u001b[0mobj\u001b[0m\u001b[0;34m)\u001b[0m\u001b[0;34m\u001b[0m\u001b[0;34m\u001b[0m\u001b[0m\n\u001b[0m\u001b[1;32m    237\u001b[0m                         \u001b[0;32mif\u001b[0m \u001b[0mwacquire\u001b[0m \u001b[0;32mis\u001b[0m \u001b[0;32mNone\u001b[0m\u001b[0;34m:\u001b[0m\u001b[0;34m\u001b[0m\u001b[0;34m\u001b[0m\u001b[0m\n\u001b[1;32m    238\u001b[0m                             \u001b[0msend_bytes\u001b[0m\u001b[0;34m(\u001b[0m\u001b[0mobj\u001b[0m\u001b[0;34m)\u001b[0m\u001b[0;34m\u001b[0m\u001b[0;34m\u001b[0m\u001b[0m\n",
      "\u001b[0;32m~/anaconda3/envs/py37/lib/python3.7/multiprocessing/reduction.py\u001b[0m in \u001b[0;36mdumps\u001b[0;34m(cls, obj, protocol)\u001b[0m\n\u001b[1;32m     49\u001b[0m     \u001b[0;32mdef\u001b[0m \u001b[0mdumps\u001b[0m\u001b[0;34m(\u001b[0m\u001b[0mcls\u001b[0m\u001b[0;34m,\u001b[0m \u001b[0mobj\u001b[0m\u001b[0;34m,\u001b[0m \u001b[0mprotocol\u001b[0m\u001b[0;34m=\u001b[0m\u001b[0;32mNone\u001b[0m\u001b[0;34m)\u001b[0m\u001b[0;34m:\u001b[0m\u001b[0;34m\u001b[0m\u001b[0;34m\u001b[0m\u001b[0m\n\u001b[1;32m     50\u001b[0m         \u001b[0mbuf\u001b[0m \u001b[0;34m=\u001b[0m \u001b[0mio\u001b[0m\u001b[0;34m.\u001b[0m\u001b[0mBytesIO\u001b[0m\u001b[0;34m(\u001b[0m\u001b[0;34m)\u001b[0m\u001b[0;34m\u001b[0m\u001b[0;34m\u001b[0m\u001b[0m\n\u001b[0;32m---> 51\u001b[0;31m         \u001b[0mcls\u001b[0m\u001b[0;34m(\u001b[0m\u001b[0mbuf\u001b[0m\u001b[0;34m,\u001b[0m \u001b[0mprotocol\u001b[0m\u001b[0;34m)\u001b[0m\u001b[0;34m.\u001b[0m\u001b[0mdump\u001b[0m\u001b[0;34m(\u001b[0m\u001b[0mobj\u001b[0m\u001b[0;34m)\u001b[0m\u001b[0;34m\u001b[0m\u001b[0;34m\u001b[0m\u001b[0m\n\u001b[0m\u001b[1;32m     52\u001b[0m         \u001b[0;32mreturn\u001b[0m \u001b[0mbuf\u001b[0m\u001b[0;34m.\u001b[0m\u001b[0mgetbuffer\u001b[0m\u001b[0;34m(\u001b[0m\u001b[0;34m)\u001b[0m\u001b[0;34m\u001b[0m\u001b[0;34m\u001b[0m\u001b[0m\n\u001b[1;32m     53\u001b[0m \u001b[0;34m\u001b[0m\u001b[0m\n",
      "\u001b[0;31mAttributeError\u001b[0m: Can't pickle local object 'async-def-wrapper.<locals>.cpu_bound'"
     ]
    }
   ],
   "source": [
    "import asyncio\n",
    "import concurrent.futures\n",
    "\n",
    "\n",
    "def blocking_io():\n",
    "    # File operations (such as logging) can block the\n",
    "    # event loop: run them in a thread pool.\n",
    "    with open(\"/dev/urandom\", \"rb\") as f:\n",
    "        return f.read(100)\n",
    "\n",
    "\n",
    "def cpu_bound():\n",
    "    # CPU-bound operations will block the event loop:\n",
    "    # in general it is preferable to run them in a\n",
    "    # process pool.\n",
    "    return sum(i * i for i in range(10 ** 7))\n",
    "\n",
    "\n",
    "async def main():\n",
    "    loop = asyncio.get_running_loop()\n",
    "\n",
    "    # 1. Run in the default loop's executor:\n",
    "    result = await loop.run_in_executor(None, blocking_io)\n",
    "    print(\"default thread pool\", result)\n",
    "\n",
    "    # 2. Run in a custom thread pool:\n",
    "    with concurrent.futures.ThreadPoolExecutor() as pool:\n",
    "        result = await loop.run_in_executor(pool, blocking_io)\n",
    "        print(\"custom thread pool\", result)\n",
    "\n",
    "    # 3. Run in a custom process pool:\n",
    "    with concurrent.futures.ProcessPoolExecutor() as pool:\n",
    "        result = await loop.run_in_executor(pool, cpu_bound)\n",
    "        print(\"custom process pool\", result)\n",
    "\n",
    "await(main())"
   ]
  },
  {
   "cell_type": "code",
   "execution_count": 24,
   "id": "a60961ae",
   "metadata": {},
   "outputs": [],
   "source": [
    "import concurrent.futures\n",
    "import time\n",
    "\n",
    "def timefunc(func):\n",
    "    def inner(*args, **kwargs):\n",
    "        start = time.time()\n",
    "        func(*args, **kwargs)\n",
    "        end = time.time()\n",
    "        print(f'Elapsed time is {end - start}')\n",
    "    return inner\n",
    "\n",
    "\n",
    "@timefunc\n",
    "def main():\n",
    "    for i in range(10000):\n",
    "        for j in range(4):\n",
    "            x = i * j\n",
    "    print(x)\n",
    "\n",
    "main()\n",
    "\n",
    "@timefunc\n",
    "def main2():\n",
    "    for i in range(10000):\n",
    "        for j in range(4):\n",
    "            x = i + j \n",
    "    print(x)\n",
    "\n",
    "main2()\n",
    "\n",
    "with concurrent.futures.ThreadPoolExecutor() as exe: \n",
    "    f1 = exe.submit(main)\n",
    "    f2 = exe.submit(main2)\n",
    "\n",
    "import multiprocessing\n",
    "pool = multiprocessing.Pool()\n",
    "pool._processes\n",
    "\n",
    "with concurrent.futures.ProcessPoolExecutor() as exe: \n",
    "    f1 = exe.submit(main)\n",
    "    f2 = exe.submit(main2)"
   ]
  },
  {
   "cell_type": "code",
   "execution_count": null,
   "id": "7c0a369c",
   "metadata": {},
   "outputs": [],
   "source": []
  }
 ],
 "metadata": {
  "kernelspec": {
   "display_name": "Python 3",
   "language": "python",
   "name": "python3"
  },
  "language_info": {
   "codemirror_mode": {
    "name": "ipython",
    "version": 3
   },
   "file_extension": ".py",
   "mimetype": "text/x-python",
   "name": "python",
   "nbconvert_exporter": "python",
   "pygments_lexer": "ipython3",
   "version": "3.7.10"
  }
 },
 "nbformat": 4,
 "nbformat_minor": 5
}
